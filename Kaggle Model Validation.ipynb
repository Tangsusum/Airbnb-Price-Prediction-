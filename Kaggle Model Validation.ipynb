{
 "cells": [
  {
   "cell_type": "code",
   "execution_count": 4,
   "metadata": {},
   "outputs": [],
   "source": [
    "import pandas as pd\n",
    "import numpy as np\n",
    "import matplotlib.pyplot as plt\n",
    "import seaborn as sns\n",
    "import statsmodels.api as sm\n",
    "import statsmodels.formula.api as smf\n",
    "import warnings\n",
    "import time\n",
    "import torch\n",
    "import xgboost as xgb\n",
    "\n",
    "from sklearn.model_selection import train_test_split\n",
    "from sklearn.metrics import mean_squared_error, r2_score,  mean_absolute_error\n",
    "from sklearn.metrics import accuracy_score, confusion_matrix, roc_auc_score\n",
    "from sklearn.metrics import precision_score, average_precision_score, log_loss"
   ]
  },
  {
   "cell_type": "code",
   "execution_count": 5,
   "metadata": {},
   "outputs": [],
   "source": [
    "# Train data\n",
    "data = pd.read_csv('C:/Users/susum/Documents/year5_sem1/QBUS3820/Group_Assignment/final_version/data_train.csv')"
   ]
  },
  {
   "cell_type": "code",
   "execution_count": 6,
   "metadata": {},
   "outputs": [],
   "source": [
    "# Test data\n",
    "data_test = pd.read_csv('C:/Users/susum/Documents/year5_sem1/QBUS3820/Group_Assignment/final_version/data_test.csv')"
   ]
  },
  {
   "cell_type": "markdown",
   "metadata": {},
   "source": [
    "# Prep data"
   ]
  },
  {
   "cell_type": "code",
   "execution_count": 7,
   "metadata": {},
   "outputs": [],
   "source": [
    "# Prep data\n",
    "predictors = list(data.columns)\n",
    "predictors.remove('price')\n",
    "response = ['price']\n",
    "\n",
    "X_train1 = data.loc[:, predictors]\n",
    "y_train1  = np.log(data.loc[:, response])\n",
    "\n",
    "\n",
    "X_test1 = data_test.loc[:, predictors]\n",
    "\n"
   ]
  },
  {
   "cell_type": "markdown",
   "metadata": {},
   "source": [
    "# OLS"
   ]
  },
  {
   "cell_type": "code",
   "execution_count": 75,
   "metadata": {},
   "outputs": [],
   "source": [
    "from sklearn.linear_model import LinearRegression\n",
    "ols1 = LinearRegression()\n",
    "ols1.fit(X_train1, y_train1)\n",
    "\n",
    "y_pred_train = ols1.predict(X_test1)"
   ]
  },
  {
   "cell_type": "code",
   "execution_count": 76,
   "metadata": {},
   "outputs": [
    {
     "data": {
      "text/html": [
       "<div>\n",
       "<style scoped>\n",
       "    .dataframe tbody tr th:only-of-type {\n",
       "        vertical-align: middle;\n",
       "    }\n",
       "\n",
       "    .dataframe tbody tr th {\n",
       "        vertical-align: top;\n",
       "    }\n",
       "\n",
       "    .dataframe thead th {\n",
       "        text-align: right;\n",
       "    }\n",
       "</style>\n",
       "<table border=\"1\" class=\"dataframe\">\n",
       "  <thead>\n",
       "    <tr style=\"text-align: right;\">\n",
       "      <th></th>\n",
       "      <th>price</th>\n",
       "    </tr>\n",
       "  </thead>\n",
       "  <tbody>\n",
       "    <tr>\n",
       "      <th>0</th>\n",
       "      <td>141.494358</td>\n",
       "    </tr>\n",
       "    <tr>\n",
       "      <th>1</th>\n",
       "      <td>441.677048</td>\n",
       "    </tr>\n",
       "    <tr>\n",
       "      <th>2</th>\n",
       "      <td>162.504312</td>\n",
       "    </tr>\n",
       "    <tr>\n",
       "      <th>3</th>\n",
       "      <td>91.106566</td>\n",
       "    </tr>\n",
       "    <tr>\n",
       "      <th>4</th>\n",
       "      <td>104.487113</td>\n",
       "    </tr>\n",
       "    <tr>\n",
       "      <th>...</th>\n",
       "      <td>...</td>\n",
       "    </tr>\n",
       "    <tr>\n",
       "      <th>24813</th>\n",
       "      <td>114.485013</td>\n",
       "    </tr>\n",
       "    <tr>\n",
       "      <th>24814</th>\n",
       "      <td>96.184730</td>\n",
       "    </tr>\n",
       "    <tr>\n",
       "      <th>24815</th>\n",
       "      <td>91.776628</td>\n",
       "    </tr>\n",
       "    <tr>\n",
       "      <th>24816</th>\n",
       "      <td>88.750147</td>\n",
       "    </tr>\n",
       "    <tr>\n",
       "      <th>24817</th>\n",
       "      <td>84.731933</td>\n",
       "    </tr>\n",
       "  </tbody>\n",
       "</table>\n",
       "<p>24818 rows × 1 columns</p>\n",
       "</div>"
      ],
      "text/plain": [
       "            price\n",
       "0      141.494358\n",
       "1      441.677048\n",
       "2      162.504312\n",
       "3       91.106566\n",
       "4      104.487113\n",
       "...           ...\n",
       "24813  114.485013\n",
       "24814   96.184730\n",
       "24815   91.776628\n",
       "24816   88.750147\n",
       "24817   84.731933\n",
       "\n",
       "[24818 rows x 1 columns]"
      ]
     },
     "execution_count": 76,
     "metadata": {},
     "output_type": "execute_result"
    }
   ],
   "source": [
    "y_pred = ols1.predict(X_test1)\n",
    "y_pred_clean = []\n",
    "for i in y_pred:\n",
    "    for j in i:\n",
    "        y_pred_clean.append(j)\n",
    "y_pred_clean = np.array(y_pred_clean)\n",
    "y_test_exp = np.exp(y_pred_clean)\n",
    "df = []\n",
    "df = pd.DataFrame({'price':y_test_exp})\n",
    "df"
   ]
  },
  {
   "cell_type": "code",
   "execution_count": 78,
   "metadata": {},
   "outputs": [],
   "source": [
    "ids = df.index.values\n",
    "values = df.values.flatten()\n",
    "\n",
    "with open('out_OLS.csv', 'w') as f:\n",
    "    f.write('id,price\\n')\n",
    "    for id_, val_ in zip(ids, values):\n",
    "        f.write('%d, %.5f\\n'%(id_, val_))"
   ]
  },
  {
   "cell_type": "markdown",
   "metadata": {},
   "source": [
    "# GBR"
   ]
  },
  {
   "cell_type": "code",
   "execution_count": 79,
   "metadata": {},
   "outputs": [
    {
     "name": "stderr",
     "output_type": "stream",
     "text": [
      "C:\\Users\\susum\\anaconda3\\lib\\site-packages\\sklearn\\ensemble\\_gb.py:1454: DataConversionWarning: A column-vector y was passed when a 1d array was expected. Please change the shape of y to (n_samples, ), for example using ravel().\n",
      "  y = column_or_1d(y, warn=True)\n"
     ]
    },
    {
     "name": "stdout",
     "output_type": "stream",
     "text": [
      "time taken is 76.11376476287842 seconds\n",
      "\n",
      "Train MSE is 0.03653837122083797\n",
      "Train RMSE is 0.19115012744133333\n",
      "Train r2 is 0.9319444811525348\n"
     ]
    }
   ],
   "source": [
    "from sklearn.ensemble import GradientBoostingRegressor\n",
    "\n",
    "time_start = time.time()\n",
    "\n",
    "gbr = GradientBoostingRegressor(learning_rate= 0.05, max_depth = 4, n_estimators= 1500, subsample = 0.8)\n",
    "gbr.fit(X_train1, y_train1)\n",
    "\n",
    "y_pred_train = gbr.predict(X_train1)\n",
    "\n",
    "time_end = time.time()\n",
    "\n",
    "print(f'time taken is {time_end - time_start} seconds')\n",
    "\n",
    "print(f'\\nTrain MSE is {(mean_squared_error(y_train1, y_pred_train))}')\n",
    "print(f'Train RMSE is {np.sqrt(mean_squared_error(y_train1, y_pred_train))}')\n",
    "print(f'Train r2 is {r2_score(y_train1, y_pred_train)}')"
   ]
  },
  {
   "cell_type": "code",
   "execution_count": 80,
   "metadata": {},
   "outputs": [
    {
     "data": {
      "text/html": [
       "<div>\n",
       "<style scoped>\n",
       "    .dataframe tbody tr th:only-of-type {\n",
       "        vertical-align: middle;\n",
       "    }\n",
       "\n",
       "    .dataframe tbody tr th {\n",
       "        vertical-align: top;\n",
       "    }\n",
       "\n",
       "    .dataframe thead th {\n",
       "        text-align: right;\n",
       "    }\n",
       "</style>\n",
       "<table border=\"1\" class=\"dataframe\">\n",
       "  <thead>\n",
       "    <tr style=\"text-align: right;\">\n",
       "      <th></th>\n",
       "      <th>price</th>\n",
       "    </tr>\n",
       "  </thead>\n",
       "  <tbody>\n",
       "    <tr>\n",
       "      <th>0</th>\n",
       "      <td>147.390525</td>\n",
       "    </tr>\n",
       "    <tr>\n",
       "      <th>1</th>\n",
       "      <td>518.692220</td>\n",
       "    </tr>\n",
       "    <tr>\n",
       "      <th>2</th>\n",
       "      <td>170.676098</td>\n",
       "    </tr>\n",
       "    <tr>\n",
       "      <th>3</th>\n",
       "      <td>83.226966</td>\n",
       "    </tr>\n",
       "    <tr>\n",
       "      <th>4</th>\n",
       "      <td>73.192505</td>\n",
       "    </tr>\n",
       "    <tr>\n",
       "      <th>...</th>\n",
       "      <td>...</td>\n",
       "    </tr>\n",
       "    <tr>\n",
       "      <th>24813</th>\n",
       "      <td>100.505675</td>\n",
       "    </tr>\n",
       "    <tr>\n",
       "      <th>24814</th>\n",
       "      <td>75.691087</td>\n",
       "    </tr>\n",
       "    <tr>\n",
       "      <th>24815</th>\n",
       "      <td>142.142813</td>\n",
       "    </tr>\n",
       "    <tr>\n",
       "      <th>24816</th>\n",
       "      <td>79.427262</td>\n",
       "    </tr>\n",
       "    <tr>\n",
       "      <th>24817</th>\n",
       "      <td>109.704031</td>\n",
       "    </tr>\n",
       "  </tbody>\n",
       "</table>\n",
       "<p>24818 rows × 1 columns</p>\n",
       "</div>"
      ],
      "text/plain": [
       "            price\n",
       "0      147.390525\n",
       "1      518.692220\n",
       "2      170.676098\n",
       "3       83.226966\n",
       "4       73.192505\n",
       "...           ...\n",
       "24813  100.505675\n",
       "24814   75.691087\n",
       "24815  142.142813\n",
       "24816   79.427262\n",
       "24817  109.704031\n",
       "\n",
       "[24818 rows x 1 columns]"
      ]
     },
     "execution_count": 80,
     "metadata": {},
     "output_type": "execute_result"
    }
   ],
   "source": [
    "y_pred = gbr.predict(X_test1)\n",
    "y_test_exp = np.exp(y_pred)\n",
    "df = []\n",
    "df = pd.DataFrame({'price':y_test_exp})\n",
    "df"
   ]
  },
  {
   "cell_type": "code",
   "execution_count": 81,
   "metadata": {},
   "outputs": [],
   "source": [
    "ids = df.index.values\n",
    "values = df.values.flatten()\n",
    "\n",
    "with open('out_gbr.csv', 'w') as f:\n",
    "    f.write('id,price\\n')\n",
    "    for id_, val_ in zip(ids, values):\n",
    "        f.write('%d, %.5f\\n'%(id_, val_))"
   ]
  },
  {
   "cell_type": "code",
   "execution_count": 96,
   "metadata": {},
   "outputs": [
    {
     "data": {
      "text/html": [
       "<div>\n",
       "<style scoped>\n",
       "    .dataframe tbody tr th:only-of-type {\n",
       "        vertical-align: middle;\n",
       "    }\n",
       "\n",
       "    .dataframe tbody tr th {\n",
       "        vertical-align: top;\n",
       "    }\n",
       "\n",
       "    .dataframe thead th {\n",
       "        text-align: right;\n",
       "    }\n",
       "</style>\n",
       "<table border=\"1\" class=\"dataframe\">\n",
       "  <thead>\n",
       "    <tr style=\"text-align: right;\">\n",
       "      <th></th>\n",
       "      <th>weight</th>\n",
       "    </tr>\n",
       "  </thead>\n",
       "  <tbody>\n",
       "    <tr>\n",
       "      <th>bedrooms</th>\n",
       "      <td>0.308062</td>\n",
       "    </tr>\n",
       "    <tr>\n",
       "      <th>accommodates</th>\n",
       "      <td>0.210201</td>\n",
       "    </tr>\n",
       "    <tr>\n",
       "      <th>cleaning_fee_perc</th>\n",
       "      <td>0.072622</td>\n",
       "    </tr>\n",
       "    <tr>\n",
       "      <th>longitude</th>\n",
       "      <td>0.057509</td>\n",
       "    </tr>\n",
       "    <tr>\n",
       "      <th>Entire_home_apt</th>\n",
       "      <td>0.043201</td>\n",
       "    </tr>\n",
       "    <tr>\n",
       "      <th>bathrooms</th>\n",
       "      <td>0.040285</td>\n",
       "    </tr>\n",
       "    <tr>\n",
       "      <th>Private_room</th>\n",
       "      <td>0.034636</td>\n",
       "    </tr>\n",
       "    <tr>\n",
       "      <th>latitude</th>\n",
       "      <td>0.023441</td>\n",
       "    </tr>\n",
       "    <tr>\n",
       "      <th>security_deposit_perc</th>\n",
       "      <td>0.020763</td>\n",
       "    </tr>\n",
       "    <tr>\n",
       "      <th>availability_90</th>\n",
       "      <td>0.016495</td>\n",
       "    </tr>\n",
       "  </tbody>\n",
       "</table>\n",
       "</div>"
      ],
      "text/plain": [
       "                         weight\n",
       "bedrooms               0.308062\n",
       "accommodates           0.210201\n",
       "cleaning_fee_perc      0.072622\n",
       "longitude              0.057509\n",
       "Entire_home_apt        0.043201\n",
       "bathrooms              0.040285\n",
       "Private_room           0.034636\n",
       "latitude               0.023441\n",
       "security_deposit_perc  0.020763\n",
       "availability_90        0.016495"
      ]
     },
     "execution_count": 96,
     "metadata": {},
     "output_type": "execute_result"
    }
   ],
   "source": [
    "gbr_table = pd.DataFrame(gbr.feature_importances_, columns=['weight'], index=X_train1.columns)\n",
    "gbr_table.sort_values('weight', ascending=False, inplace=True)\n",
    "gbr_table.head(10)"
   ]
  },
  {
   "cell_type": "markdown",
   "metadata": {},
   "source": [
    "# LightGBM"
   ]
  },
  {
   "cell_type": "code",
   "execution_count": 82,
   "metadata": {},
   "outputs": [
    {
     "name": "stdout",
     "output_type": "stream",
     "text": [
      "time taken is 1.3100035190582275 seconds\n",
      "\n",
      "Train MSE is 0.06420380903747057\n",
      "Train RMSE is 0.2533847056107976\n",
      "Train r2 is 0.8804154813136077\n"
     ]
    }
   ],
   "source": [
    "from sklearn.model_selection import GridSearchCV, RandomizedSearchCV\n",
    "import lightgbm as lgb\n",
    "\n",
    "time_start = time.time()\n",
    "\n",
    "lbst = lgb.LGBMRegressor(objective='regression', subsample = 1.0, num_leaves = 7, \n",
    "                                       n_estimators = 1500, learning_rate = 0.05)\n",
    "\n",
    "lbst.fit(X_train1, y_train1)\n",
    "\n",
    "y_pred_train = lbst.predict(X_train1)\n",
    "\n",
    "time_end = time.time()\n",
    "\n",
    "print(f'time taken is {time_end - time_start} seconds')\n",
    "\n",
    "print(f'\\nTrain MSE is {(mean_squared_error(y_train1, y_pred_train))}')\n",
    "print(f'Train RMSE is {np.sqrt(mean_squared_error(y_train1, y_pred_train))}')\n",
    "print(f'Train r2 is {r2_score(y_train1, y_pred_train)}')\n"
   ]
  },
  {
   "cell_type": "code",
   "execution_count": 83,
   "metadata": {},
   "outputs": [
    {
     "data": {
      "text/html": [
       "<div>\n",
       "<style scoped>\n",
       "    .dataframe tbody tr th:only-of-type {\n",
       "        vertical-align: middle;\n",
       "    }\n",
       "\n",
       "    .dataframe tbody tr th {\n",
       "        vertical-align: top;\n",
       "    }\n",
       "\n",
       "    .dataframe thead th {\n",
       "        text-align: right;\n",
       "    }\n",
       "</style>\n",
       "<table border=\"1\" class=\"dataframe\">\n",
       "  <thead>\n",
       "    <tr style=\"text-align: right;\">\n",
       "      <th></th>\n",
       "      <th>price</th>\n",
       "    </tr>\n",
       "  </thead>\n",
       "  <tbody>\n",
       "    <tr>\n",
       "      <th>0</th>\n",
       "      <td>135.865639</td>\n",
       "    </tr>\n",
       "    <tr>\n",
       "      <th>1</th>\n",
       "      <td>489.548777</td>\n",
       "    </tr>\n",
       "    <tr>\n",
       "      <th>2</th>\n",
       "      <td>168.724694</td>\n",
       "    </tr>\n",
       "    <tr>\n",
       "      <th>3</th>\n",
       "      <td>78.820959</td>\n",
       "    </tr>\n",
       "    <tr>\n",
       "      <th>4</th>\n",
       "      <td>74.608435</td>\n",
       "    </tr>\n",
       "    <tr>\n",
       "      <th>...</th>\n",
       "      <td>...</td>\n",
       "    </tr>\n",
       "    <tr>\n",
       "      <th>24813</th>\n",
       "      <td>102.400161</td>\n",
       "    </tr>\n",
       "    <tr>\n",
       "      <th>24814</th>\n",
       "      <td>76.068736</td>\n",
       "    </tr>\n",
       "    <tr>\n",
       "      <th>24815</th>\n",
       "      <td>148.739687</td>\n",
       "    </tr>\n",
       "    <tr>\n",
       "      <th>24816</th>\n",
       "      <td>90.442992</td>\n",
       "    </tr>\n",
       "    <tr>\n",
       "      <th>24817</th>\n",
       "      <td>98.025592</td>\n",
       "    </tr>\n",
       "  </tbody>\n",
       "</table>\n",
       "<p>24818 rows × 1 columns</p>\n",
       "</div>"
      ],
      "text/plain": [
       "            price\n",
       "0      135.865639\n",
       "1      489.548777\n",
       "2      168.724694\n",
       "3       78.820959\n",
       "4       74.608435\n",
       "...           ...\n",
       "24813  102.400161\n",
       "24814   76.068736\n",
       "24815  148.739687\n",
       "24816   90.442992\n",
       "24817   98.025592\n",
       "\n",
       "[24818 rows x 1 columns]"
      ]
     },
     "execution_count": 83,
     "metadata": {},
     "output_type": "execute_result"
    }
   ],
   "source": [
    "y_pred = lbst.predict(X_test1)\n",
    "y_test_exp = np.exp(y_pred)\n",
    "df = []\n",
    "df = pd.DataFrame({'price':y_test_exp})\n",
    "df"
   ]
  },
  {
   "cell_type": "code",
   "execution_count": 84,
   "metadata": {},
   "outputs": [],
   "source": [
    "ids = df.index.values\n",
    "values = df.values.flatten()\n",
    "\n",
    "with open('out_lbst.csv', 'w') as f:\n",
    "    f.write('id,price\\n')\n",
    "    for id_, val_ in zip(ids, values):\n",
    "        f.write('%d, %.5f\\n'%(id_, val_))"
   ]
  },
  {
   "cell_type": "code",
   "execution_count": 97,
   "metadata": {},
   "outputs": [
    {
     "data": {
      "text/html": [
       "<div>\n",
       "<style scoped>\n",
       "    .dataframe tbody tr th:only-of-type {\n",
       "        vertical-align: middle;\n",
       "    }\n",
       "\n",
       "    .dataframe tbody tr th {\n",
       "        vertical-align: top;\n",
       "    }\n",
       "\n",
       "    .dataframe thead th {\n",
       "        text-align: right;\n",
       "    }\n",
       "</style>\n",
       "<table border=\"1\" class=\"dataframe\">\n",
       "  <thead>\n",
       "    <tr style=\"text-align: right;\">\n",
       "      <th></th>\n",
       "      <th>weight</th>\n",
       "    </tr>\n",
       "  </thead>\n",
       "  <tbody>\n",
       "    <tr>\n",
       "      <th>cleaning_fee_perc</th>\n",
       "      <td>728</td>\n",
       "    </tr>\n",
       "    <tr>\n",
       "      <th>latitude</th>\n",
       "      <td>585</td>\n",
       "    </tr>\n",
       "    <tr>\n",
       "      <th>longitude</th>\n",
       "      <td>551</td>\n",
       "    </tr>\n",
       "    <tr>\n",
       "      <th>host_since</th>\n",
       "      <td>463</td>\n",
       "    </tr>\n",
       "    <tr>\n",
       "      <th>first_review</th>\n",
       "      <td>385</td>\n",
       "    </tr>\n",
       "    <tr>\n",
       "      <th>security_deposit_perc</th>\n",
       "      <td>336</td>\n",
       "    </tr>\n",
       "    <tr>\n",
       "      <th>last_review</th>\n",
       "      <td>332</td>\n",
       "    </tr>\n",
       "    <tr>\n",
       "      <th>accommodates</th>\n",
       "      <td>331</td>\n",
       "    </tr>\n",
       "    <tr>\n",
       "      <th>maximum_nights</th>\n",
       "      <td>310</td>\n",
       "    </tr>\n",
       "    <tr>\n",
       "      <th>zipcode</th>\n",
       "      <td>301</td>\n",
       "    </tr>\n",
       "  </tbody>\n",
       "</table>\n",
       "</div>"
      ],
      "text/plain": [
       "                       weight\n",
       "cleaning_fee_perc         728\n",
       "latitude                  585\n",
       "longitude                 551\n",
       "host_since                463\n",
       "first_review              385\n",
       "security_deposit_perc     336\n",
       "last_review               332\n",
       "accommodates              331\n",
       "maximum_nights            310\n",
       "zipcode                   301"
      ]
     },
     "execution_count": 97,
     "metadata": {},
     "output_type": "execute_result"
    }
   ],
   "source": [
    "lbst_table = pd.DataFrame(lbst.feature_importances_, columns=['weight'], index=X_train1.columns)\n",
    "lbst_table.sort_values('weight', ascending=False, inplace=True)\n",
    "lbst_table.head(10)"
   ]
  },
  {
   "cell_type": "markdown",
   "metadata": {},
   "source": [
    "# XG Boosting"
   ]
  },
  {
   "cell_type": "code",
   "execution_count": 85,
   "metadata": {},
   "outputs": [
    {
     "name": "stdout",
     "output_type": "stream",
     "text": [
      "Time taken to run: 0.6 minutes\n",
      "\n",
      "Train MSE is 0.03878864283041783\n",
      "Train RMSE is 0.19694832527954592\n",
      "Train r2 is 0.9277531776865954\n"
     ]
    }
   ],
   "source": [
    "xgb_reg_start = time.time()\n",
    "\n",
    "xgb_reg = xgb.XGBRegressor(subsample = 0.8, n_estimators = 1500, max_depth = 4, learning_rate = 0.05)\n",
    "xgb_reg.fit(X_train1, y_train1)\n",
    "training_preds_xgb_reg = xgb_reg.predict(X_train1)\n",
    "\n",
    "xgb_reg_end = time.time()\n",
    "\n",
    "print(f\"Time taken to run: {round((xgb_reg_end - xgb_reg_start)/60,1)} minutes\")\n",
    "\n",
    "print(f'\\nTrain MSE is {(mean_squared_error(y_train1, training_preds_xgb_reg))}')\n",
    "print(f'Train RMSE is {np.sqrt(mean_squared_error(y_train1, training_preds_xgb_reg))}')\n",
    "print(f'Train r2 is {r2_score(y_train1, training_preds_xgb_reg)}')\n",
    "\n"
   ]
  },
  {
   "cell_type": "code",
   "execution_count": 86,
   "metadata": {},
   "outputs": [
    {
     "data": {
      "text/html": [
       "<div>\n",
       "<style scoped>\n",
       "    .dataframe tbody tr th:only-of-type {\n",
       "        vertical-align: middle;\n",
       "    }\n",
       "\n",
       "    .dataframe tbody tr th {\n",
       "        vertical-align: top;\n",
       "    }\n",
       "\n",
       "    .dataframe thead th {\n",
       "        text-align: right;\n",
       "    }\n",
       "</style>\n",
       "<table border=\"1\" class=\"dataframe\">\n",
       "  <thead>\n",
       "    <tr style=\"text-align: right;\">\n",
       "      <th></th>\n",
       "      <th>price</th>\n",
       "    </tr>\n",
       "  </thead>\n",
       "  <tbody>\n",
       "    <tr>\n",
       "      <th>0</th>\n",
       "      <td>136.761902</td>\n",
       "    </tr>\n",
       "    <tr>\n",
       "      <th>1</th>\n",
       "      <td>497.719055</td>\n",
       "    </tr>\n",
       "    <tr>\n",
       "      <th>2</th>\n",
       "      <td>170.689209</td>\n",
       "    </tr>\n",
       "    <tr>\n",
       "      <th>3</th>\n",
       "      <td>84.113335</td>\n",
       "    </tr>\n",
       "    <tr>\n",
       "      <th>4</th>\n",
       "      <td>74.932732</td>\n",
       "    </tr>\n",
       "    <tr>\n",
       "      <th>...</th>\n",
       "      <td>...</td>\n",
       "    </tr>\n",
       "    <tr>\n",
       "      <th>24813</th>\n",
       "      <td>99.378433</td>\n",
       "    </tr>\n",
       "    <tr>\n",
       "      <th>24814</th>\n",
       "      <td>74.352226</td>\n",
       "    </tr>\n",
       "    <tr>\n",
       "      <th>24815</th>\n",
       "      <td>130.234055</td>\n",
       "    </tr>\n",
       "    <tr>\n",
       "      <th>24816</th>\n",
       "      <td>79.714218</td>\n",
       "    </tr>\n",
       "    <tr>\n",
       "      <th>24817</th>\n",
       "      <td>113.935654</td>\n",
       "    </tr>\n",
       "  </tbody>\n",
       "</table>\n",
       "<p>24818 rows × 1 columns</p>\n",
       "</div>"
      ],
      "text/plain": [
       "            price\n",
       "0      136.761902\n",
       "1      497.719055\n",
       "2      170.689209\n",
       "3       84.113335\n",
       "4       74.932732\n",
       "...           ...\n",
       "24813   99.378433\n",
       "24814   74.352226\n",
       "24815  130.234055\n",
       "24816   79.714218\n",
       "24817  113.935654\n",
       "\n",
       "[24818 rows x 1 columns]"
      ]
     },
     "execution_count": 86,
     "metadata": {},
     "output_type": "execute_result"
    }
   ],
   "source": [
    "y_pred = xgb_reg.predict(X_test1)\n",
    "y_test_exp = np.exp(y_pred)\n",
    "df = []\n",
    "df = pd.DataFrame({'price':y_test_exp})\n",
    "df"
   ]
  },
  {
   "cell_type": "code",
   "execution_count": 87,
   "metadata": {},
   "outputs": [],
   "source": [
    "ids = df.index.values\n",
    "values = df.values.flatten()\n",
    "\n",
    "with open('out_xgb.csv', 'w') as f:\n",
    "    f.write('id,price\\n')\n",
    "    for id_, val_ in zip(ids, values):\n",
    "        f.write('%d, %.5f\\n'%(id_, val_))"
   ]
  },
  {
   "cell_type": "markdown",
   "metadata": {},
   "source": [
    "# Random Forest"
   ]
  },
  {
   "cell_type": "code",
   "execution_count": 98,
   "metadata": {},
   "outputs": [],
   "source": [
    "from sklearn.ensemble import RandomForestRegressor\n",
    "from sklearn.datasets import make_regression\n",
    "from sklearn.model_selection import GridSearchCV\n",
    "\n",
    "regr_start = time.time()\n",
    "\n",
    "rf = RandomForestRegressor(n_estimators = 10000, min_samples_split = 5, min_samples_leaf = 2,\n",
    "                                        max_features = 'auto', max_depth = 70, bootstrap = True)\n",
    "\n",
    "rf.fit(X_train1, y_train1)\n",
    "\n",
    "y_pred_train = rf.predict(X_train1)\n",
    "\n",
    "print(f'\\nTrain MSE is {(mean_squared_error(y_train1, y_pred_train))}')\n",
    "print(f'Train RMSE is {np.sqrt(mean_squared_error(y_train1, y_pred_train))}')\n",
    "print(f'Train r2 is {r2_score(y_train1, y_pred_train)}')"
   ]
  },
  {
   "cell_type": "code",
   "execution_count": null,
   "metadata": {},
   "outputs": [],
   "source": [
    "y_pred = rf.predict(X_test1)\n",
    "y_test_exp = np.exp(y_pred)\n",
    "df = []\n",
    "df = pd.DataFrame({'price':y_test_exp})\n",
    "df"
   ]
  },
  {
   "cell_type": "code",
   "execution_count": null,
   "metadata": {},
   "outputs": [],
   "source": [
    "ids = df.index.values\n",
    "values = df.values.flatten()\n",
    "\n",
    "with open('out_rf.csv', 'w') as f:\n",
    "    f.write('id,price\\n')\n",
    "    for id_, val_ in zip(ids, values):\n",
    "        f.write('%d, %.5f\\n'%(id_, val_))"
   ]
  },
  {
   "cell_type": "markdown",
   "metadata": {},
   "source": [
    "# Stacking Model"
   ]
  },
  {
   "cell_type": "code",
   "execution_count": 8,
   "metadata": {},
   "outputs": [],
   "source": [
    "from numpy import mean\n",
    "from numpy import std\n",
    "from sklearn.datasets import make_regression\n",
    "from sklearn.model_selection import cross_val_score\n",
    "from sklearn.model_selection import RepeatedKFold\n",
    "from sklearn.linear_model import LinearRegression\n",
    "from sklearn.neighbors import KNeighborsRegressor\n",
    "from sklearn.tree import DecisionTreeRegressor\n",
    "from sklearn.svm import SVR        \n",
    "from pygam import LinearGAM\n",
    "from sklearn.ensemble import GradientBoostingRegressor\n",
    "from sklearn.model_selection import GridSearchCV, RandomizedSearchCV\n",
    "import lightgbm as lgb\n",
    "import xgboost as xgb\n",
    "from sklearn.ensemble import RandomForestRegressor\n",
    "from sklearn.datasets import make_regression\n",
    "from sklearn.ensemble import StackingRegressor\n",
    "from matplotlib import pyplot\n",
    "from sklearn.svm import SVR"
   ]
  },
  {
   "cell_type": "code",
   "execution_count": 9,
   "metadata": {},
   "outputs": [],
   "source": [
    "def get_stacking():\n",
    "    \n",
    "    #define the base models\n",
    "    level0 = list()\n",
    "    level0.append(('lgbm', lgb.LGBMRegressor(objective='regression', subsample = 0.8, num_leaves = 24, \n",
    "                                       n_estimators = 500, learning_rate = 0.05)))\n",
    "    level0.append(('rf',  RandomForestRegressor(n_estimators = 1800, min_samples_split = 5, min_samples_leaf = 2,\n",
    "                                        max_features = 'auto', max_depth = 70, bootstrap = True)))\n",
    "    level0.append(('xgb', xgb.XGBRegressor(colsample_bytree = 0.306, subsample = 1.0, n_estimators = 1975, max_depth = 6,\n",
    "                            learning_rate = 0.05, reg_lambda = 1000)))\n",
    "    level0.append(('gbr',GradientBoostingRegressor(learning_rate= 0.05, max_depth = 4, n_estimators= 1500, subsample = 0.8)))\n",
    "    \n",
    "    # define meta learner model\n",
    "    level1 = None\n",
    "\n",
    "    # define the stacking ensemble\n",
    "    model = StackingRegressor(estimators=level0, final_estimator=level1, cv=5, verbose=2, n_jobs=-1)\n",
    "    return model"
   ]
  },
  {
   "cell_type": "code",
   "execution_count": null,
   "metadata": {},
   "outputs": [],
   "source": [
    "stacking = get_stacking()\n",
    "stacking.fit(X_train,y_train)"
   ]
  },
  {
   "cell_type": "code",
   "execution_count": null,
   "metadata": {},
   "outputs": [],
   "source": [
    "# Find prediction \n",
    "y_test = stacking.predict(X_test)"
   ]
  },
  {
   "cell_type": "code",
   "execution_count": null,
   "metadata": {},
   "outputs": [],
   "source": [
    "y_test_exp = np.exp(y_test)\n",
    "df = []\n",
    "df = pd.DataFrame({'price':y_test_exp})\n",
    "df"
   ]
  },
  {
   "cell_type": "code",
   "execution_count": null,
   "metadata": {},
   "outputs": [],
   "source": [
    "ids = df.index.values\n",
    "values = df.values.flatten()\n",
    "\n",
    "with open('out_stack3.csv', 'w') as f:\n",
    "    f.write('id, price\\n')\n",
    "    for id_, val_ in zip(ids, values):\n",
    "        f.write('%d, %.5f\\n'%(id_, val_))"
   ]
  },
  {
   "cell_type": "markdown",
   "metadata": {},
   "source": [
    "# Plot"
   ]
  },
  {
   "cell_type": "code",
   "execution_count": 10,
   "metadata": {},
   "outputs": [],
   "source": [
    "# evaluate a given model using cross-validation\n",
    "def evaluate_model(model):\n",
    "    cv = RepeatedKFold(n_splits=10, n_repeats=3, random_state=1)\n",
    "    scores = cross_val_score(model, X_train1, y_train1, scoring='neg_mean_squared_error', cv=cv, n_jobs=-1, error_score='raise')\n",
    "    return scores"
   ]
  },
  {
   "cell_type": "code",
   "execution_count": 11,
   "metadata": {},
   "outputs": [],
   "source": [
    "def get_models():\n",
    "    models = dict()\n",
    "    models['lgbm'] = lgb.LGBMRegressor(objective='regression', subsample = 0.8, num_leaves = 24, \n",
    "                                       n_estimators = 500, learning_rate = 0.05)\n",
    "    models['rf'] =  RandomForestRegressor(n_estimators = 1800, min_samples_split = 5, min_samples_leaf = 2,\n",
    "                                        max_features = 'auto', max_depth = 70, bootstrap = True)\n",
    "    models['xgb'] = xgb.XGBRegressor(colsample_bytree = 0.306, subsample = 1.0, n_estimators = 1975, max_depth = 6,\n",
    "                            learning_rate = 0.05, reg_lambda = 1000)\n",
    "    models['gbr'] = GradientBoostingRegressor(learning_rate= 0.05, max_depth = 4, n_estimators= 1500, subsample = 0.8)\n",
    "    models['stack'] = get_stacking()\n",
    "    return models"
   ]
  },
  {
   "cell_type": "code",
   "execution_count": null,
   "metadata": {},
   "outputs": [
    {
     "name": "stdout",
     "output_type": "stream",
     "text": [
      ">lgbm -0.101 (0.007)\n",
      ">rf -0.121 (0.008)\n",
      ">xgb -0.099 (0.007)\n",
      ">gbr -0.099 (0.007)\n"
     ]
    },
    {
     "name": "stderr",
     "output_type": "stream",
     "text": [
      "C:\\Users\\susum\\anaconda3\\lib\\site-packages\\joblib\\externals\\loky\\process_executor.py:706: UserWarning: A worker stopped while some jobs were given to the executor. This can be caused by a too short worker timeout or by a memory leak.\n",
      "  \"timeout or by a memory leak.\", UserWarning\n"
     ]
    }
   ],
   "source": [
    "# get the models to evaluate\n",
    "models = get_models()\n",
    "# evaluate the models and store results\n",
    "results, names = list(), list()\n",
    "for name, model in models.items():\n",
    "    scores = evaluate_model(model)\n",
    "    results.append(scores)\n",
    "    names.append(name)\n",
    "    print('>%s %.3f (%.3f)' % (name, mean(scores), std(scores)))\n",
    "# plot model performance for comparison\n",
    "pyplot.boxplot(results, labels=names, showmeans=True)\n",
    "pyplot.show()"
   ]
  },
  {
   "cell_type": "code",
   "execution_count": null,
   "metadata": {},
   "outputs": [],
   "source": []
  },
  {
   "cell_type": "code",
   "execution_count": null,
   "metadata": {},
   "outputs": [],
   "source": []
  }
 ],
 "metadata": {
  "kernelspec": {
   "display_name": "Python 3",
   "language": "python",
   "name": "python3"
  },
  "language_info": {
   "codemirror_mode": {
    "name": "ipython",
    "version": 3
   },
   "file_extension": ".py",
   "mimetype": "text/x-python",
   "name": "python",
   "nbconvert_exporter": "python",
   "pygments_lexer": "ipython3",
   "version": "3.7.6"
  }
 },
 "nbformat": 4,
 "nbformat_minor": 4
}
